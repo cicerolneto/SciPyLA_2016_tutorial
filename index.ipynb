{
 "cells": [
  {
   "cell_type": "code",
   "execution_count": null,
   "metadata": {
    "collapsed": false,
    "slideshow": {
     "slide_type": "skip"
    }
   },
   "outputs": [],
   "source": [
    "from notebook.services.config import ConfigManager\n",
    "cm = ConfigManager()\n",
    "cm.update('livereveal',\n",
    "          {'theme': 'serif',\n",
    "           'transition': 'slide',\n",
    "           'start_slideshow_at': 'selected',\n",
    "           'width': 1024,\n",
    "           'height': 768});"
   ]
  },
  {
   "cell_type": "markdown",
   "metadata": {
    "slideshow": {
     "slide_type": "slide"
    }
   },
   "source": [
    "# A tour of the ~~Scientific~~ ~~Oceanographic~~ Geosciences Python stack"
   ]
  },
  {
   "cell_type": "markdown",
   "metadata": {
    "slideshow": {
     "slide_type": "fragment"
    }
   },
   "source": [
    "![](./images/pork-knee.jpg)"
   ]
  },
  {
   "cell_type": "markdown",
   "metadata": {
    "slideshow": {
     "slide_type": "slide"
    }
   },
   "source": [
    "### Before we begin\n",
    "\n",
    "- Who am I?\n",
    "- Who are you?\n",
    "- What do you expect from this tutorial?"
   ]
  },
  {
   "cell_type": "markdown",
   "metadata": {
    "slideshow": {
     "slide_type": "slide"
    }
   },
   "source": [
    "How to run this notebook\n",
    "\n",
    "\n",
    "```bash\n",
    "url=http://bit.ly/miniconda\n",
    "\n",
    "wget $url -O miniconda.sh\n",
    "bash miniconda.sh -b\n",
    "export PATH=$HOME/miniconda/bin:$PATH\n",
    "conda update --yes --all\n",
    "```"
   ]
  },
  {
   "cell_type": "markdown",
   "metadata": {
    "slideshow": {
     "slide_type": "fragment"
    }
   },
   "source": [
    "```bash\n",
    "url=http://bit.ly/conda-env\n",
    "\n",
    "wget $url -O environment.yml\n",
    "conda env create environment.yml\n",
    "```"
   ]
  },
  {
   "cell_type": "markdown",
   "metadata": {
    "slideshow": {
     "slide_type": "slide"
    }
   },
   "source": [
    "# NumPy\n",
    "\n",
    "http://www.numpy.org/\n",
    "\n",
    "See also:\n",
    "\n",
    "- http://www.labri.fr/perso/nrougier/teaching/numpy.100/"
   ]
  },
  {
   "cell_type": "markdown",
   "metadata": {
    "slideshow": {
     "slide_type": "slide"
    }
   },
   "source": [
    "Define an array"
   ]
  },
  {
   "cell_type": "code",
   "execution_count": null,
   "metadata": {
    "collapsed": false,
    "slideshow": {
     "slide_type": "fragment"
    }
   },
   "outputs": [],
   "source": [
    "import numpy as np\n",
    "a = np.array([[1, 2, 3], [4, 5, 6]], dtype=np.complex)\n",
    "\n",
    "print('Data type            : {}'.format(a.dtype))\n",
    "print('Element size         : {}'.format(a.size))\n",
    "print('Number of dimensions : {}'.format(a.ndim))\n",
    "print('Shape                : {}'.format(a.shape))\n",
    "print('Memory in bytes      : {}'.format(a.nbytes))"
   ]
  },
  {
   "cell_type": "code",
   "execution_count": null,
   "metadata": {
    "collapsed": false,
    "slideshow": {
     "slide_type": "fragment"
    }
   },
   "outputs": [],
   "source": [
    "np.arange(0, 2*np.pi, np.pi)"
   ]
  },
  {
   "cell_type": "code",
   "execution_count": null,
   "metadata": {
    "collapsed": false,
    "slideshow": {
     "slide_type": "fragment"
    }
   },
   "outputs": [],
   "source": [
    "np.linspace(0, 2*np.pi, 5)"
   ]
  },
  {
   "cell_type": "code",
   "execution_count": null,
   "metadata": {
    "collapsed": false,
    "slideshow": {
     "slide_type": "fragment"
    }
   },
   "outputs": [],
   "source": [
    "np.zeros_like(a) == np.zeros(a.shape)"
   ]
  },
  {
   "cell_type": "markdown",
   "metadata": {
    "slideshow": {
     "slide_type": "slide"
    }
   },
   "source": [
    "Reading some data"
   ]
  },
  {
   "cell_type": "code",
   "execution_count": null,
   "metadata": {
    "collapsed": false,
    "scrolled": true,
    "slideshow": {
     "slide_type": "fragment"
    }
   },
   "outputs": [],
   "source": [
    "!head -n 5 ./data/dados_pirata.csv"
   ]
  },
  {
   "cell_type": "markdown",
   "metadata": {
    "slideshow": {
     "slide_type": "slide"
    }
   },
   "source": [
    "We need to skip the header and the date-time columns"
   ]
  },
  {
   "cell_type": "code",
   "execution_count": null,
   "metadata": {
    "collapsed": false,
    "scrolled": true,
    "slideshow": {
     "slide_type": "fragment"
    }
   },
   "outputs": [],
   "source": [
    "data = np.loadtxt(\"./data/dados_pirata.csv\",\n",
    "                  skiprows=1,\n",
    "                  usecols=range(2, 16),\n",
    "                  delimiter=',')\n",
    "\n",
    "data[data == -99999.] = np.NaN\n",
    "\n",
    "data.shape, data.dtype"
   ]
  },
  {
   "cell_type": "markdown",
   "metadata": {
    "slideshow": {
     "slide_type": "slide"
    }
   },
   "source": [
    "But the depth information was in header!\n",
    "\n",
    "We need to type that in..."
   ]
  },
  {
   "cell_type": "code",
   "execution_count": null,
   "metadata": {
    "collapsed": false,
    "scrolled": true,
    "slideshow": {
     "slide_type": "fragment"
    }
   },
   "outputs": [],
   "source": [
    "%matplotlib inline\n",
    "import matplotlib.pyplot as plt\n",
    "\n",
    "z = [1, 10, 100, 120, 13, 140, 180, 20,\n",
    "     300, 40,5, 500, 60, 80]\n",
    "\n",
    "fig, ax = plt.subplots()\n",
    "\n",
    "ax.plot(data[42, :], z, 'ko') # Plot . because z was not ordered.\n",
    "ax.invert_yaxis()"
   ]
  },
  {
   "cell_type": "markdown",
   "metadata": {
    "slideshow": {
     "slide_type": "slide"
    }
   },
   "source": [
    "```python\n",
    "import *\n",
    "```\n",
    "\n",
    "vs\n",
    "\n",
    "```python\n",
    "import numpy as np\n",
    "```"
   ]
  },
  {
   "cell_type": "code",
   "execution_count": null,
   "metadata": {
    "collapsed": false,
    "slideshow": {
     "slide_type": "fragment"
    }
   },
   "outputs": [],
   "source": [
    "sum(range(5), -1)"
   ]
  },
  {
   "cell_type": "code",
   "execution_count": null,
   "metadata": {
    "collapsed": false,
    "slideshow": {
     "slide_type": "fragment"
    }
   },
   "outputs": [],
   "source": [
    "from numpy import *\n",
    "sum(range(5), -1)"
   ]
  },
  {
   "cell_type": "markdown",
   "metadata": {
    "slideshow": {
     "slide_type": "slide"
    }
   },
   "source": [
    "## Exercise\n",
    "\n",
    "Load `dados_pirata.csv` again, but now use numpy masked arrays to remove the bad values."
   ]
  },
  {
   "cell_type": "code",
   "execution_count": null,
   "metadata": {
    "collapsed": false,
    "slideshow": {
     "slide_type": "fragment"
    }
   },
   "outputs": [],
   "source": [
    "import numpy as np\n",
    "import numpy.ma as ma\n",
    "\n",
    "data = np.loadtxt(\"./data/dados_pirata.csv\",\n",
    "                  skiprows=1,\n",
    "                  usecols=range(2, 16),\n",
    "                  delimiter=',')\n",
    "\n",
    "data[data == -99999.] = np.NaN\n",
    "\n",
    "ma.masked_invalid(data)"
   ]
  },
  {
   "cell_type": "markdown",
   "metadata": {
    "slideshow": {
     "slide_type": "slide"
    }
   },
   "source": [
    "## How to remember the methods, syntaxes, etc?\n",
    "\n",
    "![](./images/tar.png)\n",
    "\n",
    "http://mathesaurus.sourceforge.net/matlab-numpy.html"
   ]
  },
  {
   "cell_type": "markdown",
   "metadata": {
    "slideshow": {
     "slide_type": "slide"
    }
   },
   "source": [
    "# Pandas: can we do better than NumPy arrays?\n",
    "\n",
    "http://pandas.pydata.org/"
   ]
  },
  {
   "cell_type": "markdown",
   "metadata": {
    "slideshow": {
     "slide_type": "slide"
    }
   },
   "source": [
    "Note that almost everything we did before, and some more, is now done at the loading time"
   ]
  },
  {
   "cell_type": "code",
   "execution_count": null,
   "metadata": {
    "collapsed": false,
    "scrolled": true,
    "slideshow": {
     "slide_type": "fragment"
    }
   },
   "outputs": [],
   "source": [
    "import pandas as pd\n",
    "\n",
    "df = pd.read_csv('./data/dados_pirata.csv',\n",
    "                 index_col='datahora',\n",
    "                 parse_dates=True,\n",
    "                 na_values=-99999)\n",
    "df.drop('Unnamed: 0', axis=1, inplace=True)\n",
    "df.columns = ['{0:0>3}'.format(col.split('_')[1]) for\n",
    "              col in df.columns]\n",
    "df.sort_index(axis=1, inplace=True)"
   ]
  },
  {
   "cell_type": "code",
   "execution_count": null,
   "metadata": {
    "collapsed": false,
    "slideshow": {
     "slide_type": "slide"
    }
   },
   "outputs": [],
   "source": [
    "df.head(5)"
   ]
  },
  {
   "cell_type": "markdown",
   "metadata": {
    "slideshow": {
     "slide_type": "slide"
    }
   },
   "source": [
    "Pandas behave like masked-arrays,\n",
    "but with some extra convenience functions beyond `nan{min,max,mean,etc}`"
   ]
  },
  {
   "cell_type": "code",
   "execution_count": null,
   "metadata": {
    "collapsed": false,
    "scrolled": true,
    "slideshow": {
     "slide_type": "fragment"
    }
   },
   "outputs": [],
   "source": [
    "df.dropna(how='all', axis=1, inplace=True)\n",
    "\n",
    "df.head(3)"
   ]
  },
  {
   "cell_type": "markdown",
   "metadata": {
    "slideshow": {
     "slide_type": "slide"
    }
   },
   "source": [
    "Quick way to explore the data"
   ]
  },
  {
   "cell_type": "code",
   "execution_count": null,
   "metadata": {
    "collapsed": false,
    "scrolled": true,
    "slideshow": {
     "slide_type": "fragment"
    }
   },
   "outputs": [],
   "source": [
    "desc = df.describe()\n",
    "desc"
   ]
  },
  {
   "cell_type": "markdown",
   "metadata": {
    "slideshow": {
     "slide_type": "slide"
    }
   },
   "source": [
    "![](./images/read_the_docs_until_the_end.jpg)\n",
    "\n",
    "```\n",
    "RuntimeWarning: Invalid value encountered in percentile\n",
    "  RuntimeWarning)\n",
    "```"
   ]
  },
  {
   "cell_type": "markdown",
   "metadata": {
    "slideshow": {
     "slide_type": "slide"
    }
   },
   "source": [
    "High level code!  No need for comments to describe what is being computed below:"
   ]
  },
  {
   "cell_type": "code",
   "execution_count": null,
   "metadata": {
    "collapsed": false,
    "scrolled": true,
    "slideshow": {
     "slide_type": "fragment"
    }
   },
   "outputs": [],
   "source": [
    "desc.ix['std'] ** 2"
   ]
  },
  {
   "cell_type": "markdown",
   "metadata": {
    "slideshow": {
     "slide_type": "slide"
    }
   },
   "source": [
    "What levels are we plotting?"
   ]
  },
  {
   "cell_type": "code",
   "execution_count": null,
   "metadata": {
    "collapsed": false,
    "scrolled": true,
    "slideshow": {
     "slide_type": "fragment"
    }
   },
   "outputs": [],
   "source": [
    "ax = df[['001', '500']].plot(figsize=(11, 3))"
   ]
  },
  {
   "cell_type": "markdown",
   "metadata": {
    "slideshow": {
     "slide_type": "slide"
    }
   },
   "source": [
    "More convenience functions:\n",
    "- interpolate"
   ]
  },
  {
   "cell_type": "code",
   "execution_count": null,
   "metadata": {
    "collapsed": false,
    "scrolled": true,
    "slideshow": {
     "slide_type": "fragment"
    }
   },
   "outputs": [],
   "source": [
    "df['001'].interpolate().plot(figsize=(11, 3))\n",
    "ax = df['001'].plot()"
   ]
  },
  {
   "cell_type": "markdown",
   "metadata": {
    "slideshow": {
     "slide_type": "slide"
    }
   },
   "source": [
    "Full control of the interpolation"
   ]
  },
  {
   "cell_type": "code",
   "execution_count": null,
   "metadata": {
    "collapsed": false,
    "scrolled": true,
    "slideshow": {
     "slide_type": "fragment"
    }
   },
   "outputs": [],
   "source": [
    "kw = dict(method='time', limit=20)\n",
    "df['001'].interpolate(**kw).plot(figsize=(11, 3))\n",
    "ax = df['001'].plot()"
   ]
  },
  {
   "cell_type": "markdown",
   "metadata": {
    "slideshow": {
     "slide_type": "slide"
    }
   },
   "source": [
    "Pandas loves time-series"
   ]
  },
  {
   "cell_type": "code",
   "execution_count": null,
   "metadata": {
    "collapsed": false,
    "scrolled": true,
    "slideshow": {
     "slide_type": "fragment"
    }
   },
   "outputs": [],
   "source": [
    "key = lambda x: x.month\n",
    "\n",
    "grouped = df.groupby(key)\n",
    "\n",
    "monthly = grouped.mean()\n",
    "\n",
    "fig, ax = plt.subplots(figsize=(9, 5))\n",
    "\n",
    "ax = monthly.plot(ax=ax)"
   ]
  },
  {
   "cell_type": "markdown",
   "metadata": {
    "slideshow": {
     "slide_type": "slide"
    }
   },
   "source": [
    "## Exercise\n",
    "\n",
    "Load the file `15t30717.3f1` and filter the tidal signal."
   ]
  },
  {
   "cell_type": "code",
   "execution_count": null,
   "metadata": {
    "collapsed": false,
    "slideshow": {
     "slide_type": "slide"
    }
   },
   "outputs": [],
   "source": [
    "from datetime import datetime\n",
    "from pandas import read_table\n",
    "\n",
    "cols = ['j', 'u', 'v', 'temp', 'sal', 'y', 'mn', 'd', 'h', 'mi']\n",
    "\n",
    "df = read_table('./data/15t30717.3f1' , delim_whitespace=True, names=cols)\n",
    "dates = [datetime(*x) for x in\n",
    "         zip(df['y'], df['mn'], df['d'], df['h'], df['mi'])]\n",
    "df.index = dates\n",
    "df.drop(['y', 'mn', 'd', 'h', 'mi', 'j'], axis=1, inplace=True)\n",
    "df.head()"
   ]
  },
  {
   "cell_type": "code",
   "execution_count": null,
   "metadata": {
    "collapsed": false,
    "scrolled": true,
    "slideshow": {
     "slide_type": "slide"
    }
   },
   "outputs": [],
   "source": [
    "from pandas import rolling_mean\n",
    "\n",
    "df = df.resample(rule='1H').mean()\n",
    "\n",
    "df['low'] = df['v'].rolling(window=40, center=True).mean()\n",
    "df['high'] = df['v'] - df['low']\n",
    "df[['v', 'high', 'low']].plot()"
   ]
  },
  {
   "cell_type": "markdown",
   "metadata": {
    "slideshow": {
     "slide_type": "slide"
    }
   },
   "source": [
    "## Pandas has a few siblings:\n",
    "\n",
    "- geopandas\n",
    "- ctd\n",
    "- xray"
   ]
  },
  {
   "cell_type": "markdown",
   "metadata": {
    "slideshow": {
     "slide_type": "slide"
    }
   },
   "source": [
    "GeoPandas read GeoJSONs, Shapefiles, etc as pandas DataFrames\n",
    "\n",
    "http://geopandas.org/"
   ]
  },
  {
   "cell_type": "code",
   "execution_count": null,
   "metadata": {
    "collapsed": true,
    "slideshow": {
     "slide_type": "fragment"
    }
   },
   "outputs": [],
   "source": [
    "import geopandas as gpd\n",
    "\n",
    "fname = \"./data/2013-04-29-Running.geojson\"\n",
    "\n",
    "df = gpd.read_file(fname)\n",
    "ax = df.plot()"
   ]
  },
  {
   "cell_type": "markdown",
   "metadata": {
    "slideshow": {
     "slide_type": "slide"
    }
   },
   "source": [
    "The geometries are essentially shapely objects"
   ]
  },
  {
   "cell_type": "code",
   "execution_count": null,
   "metadata": {
    "collapsed": false,
    "slideshow": {
     "slide_type": "fragment"
    }
   },
   "outputs": [],
   "source": [
    "shape = df['geometry'][0]\n",
    "\n",
    "msg = \"\"\"\n",
    "Length is {} km.\n",
    "\n",
    "The center is locate at {!r}.\n",
    "\n",
    "The track bounds are {}.\n",
    "\"\"\".format\n",
    "print(msg(shape.length * 111, shape.centroid.xy,\n",
    "          shape.bounds))"
   ]
  },
  {
   "cell_type": "markdown",
   "metadata": {
    "slideshow": {
     "slide_type": "slide"
    }
   },
   "source": [
    "[ptyhon-ctd](https://pypi.python.org/pypi/ctd) loads `ctd`, `xbt`, and many more ocean profilers directly into pandas"
   ]
  },
  {
   "cell_type": "code",
   "execution_count": null,
   "metadata": {
    "collapsed": false,
    "scrolled": true,
    "slideshow": {
     "slide_type": "fragment"
    }
   },
   "outputs": [],
   "source": [
    "from ctd import DataFrame\n",
    "cast = DataFrame.from_cnv('./data/CTD_001.cnv.gz',\n",
    "                          compression='gzip')\n",
    "cast.head()"
   ]
  },
  {
   "cell_type": "markdown",
   "metadata": {
    "slideshow": {
     "slide_type": "slide"
    }
   },
   "source": [
    "The augmented DataFrame has some extra methods to process CTD data"
   ]
  },
  {
   "cell_type": "code",
   "execution_count": null,
   "metadata": {
    "collapsed": false,
    "scrolled": false,
    "slideshow": {
     "slide_type": "fragment"
    }
   },
   "outputs": [],
   "source": [
    "downcast, upcast = cast['t090C'].split()\n",
    "fig, ax = downcast.plot(figsize=(3, 7))"
   ]
  },
  {
   "cell_type": "markdown",
   "metadata": {
    "slideshow": {
     "slide_type": "slide"
    }
   },
   "source": [
    "[xray](http://xray.readthedocs.org/en/stable/): `netCDF4` + `pandas` for >2D tables"
   ]
  },
  {
   "cell_type": "code",
   "execution_count": null,
   "metadata": {
    "collapsed": false,
    "scrolled": true,
    "slideshow": {
     "slide_type": "fragment"
    }
   },
   "outputs": [],
   "source": [
    "import xray\n",
    "\n",
    "url = ('http://geoport.whoi.edu/thredds/dodsC/clay/usgs/'\n",
    "       'users/jcwarner/Projects/Sandy/triple_nest/'\n",
    "       '00_dir_NYB05.ncml') # './data/00_dir_NYB05.nc'\n",
    "\n",
    "ds = xray.open_dataset(url)\n",
    "ds"
   ]
  },
  {
   "cell_type": "markdown",
   "metadata": {
    "slideshow": {
     "slide_type": "slide"
    }
   },
   "source": [
    "Slice the variables using the `var name` (like `netCDF4`)"
   ]
  },
  {
   "cell_type": "code",
   "execution_count": null,
   "metadata": {
    "collapsed": false,
    "scrolled": true,
    "slideshow": {
     "slide_type": "fragment"
    }
   },
   "outputs": [],
   "source": [
    "temp = ds['temp']\n",
    "temp"
   ]
  },
  {
   "cell_type": "markdown",
   "metadata": {
    "slideshow": {
     "slide_type": "slide"
    }
   },
   "source": [
    "Use high-level dates slice (like pandas)"
   ]
  },
  {
   "cell_type": "code",
   "execution_count": null,
   "metadata": {
    "collapsed": false,
    "scrolled": true,
    "slideshow": {
     "slide_type": "fragment"
    }
   },
   "outputs": [],
   "source": [
    "temp.sel(ocean_time='2012-10-25')"
   ]
  },
  {
   "cell_type": "markdown",
   "metadata": {
    "slideshow": {
     "slide_type": "slide"
    }
   },
   "source": [
    "You can even slice using integers and named the axis"
   ]
  },
  {
   "cell_type": "code",
   "execution_count": null,
   "metadata": {
    "collapsed": false,
    "scrolled": true,
    "slideshow": {
     "slide_type": "fragment"
    }
   },
   "outputs": [],
   "source": [
    "t = temp.isel(s_rho=-1, ocean_time=0)\n",
    "\n",
    "cs = t.plot()"
   ]
  },
  {
   "cell_type": "markdown",
   "metadata": {
    "slideshow": {
     "slide_type": "slide"
    }
   },
   "source": [
    "# seaborn and statsmodels: Easy stats at you finger tips\n",
    "\n",
    "https://stanford.edu/~mwaskom/software/seaborn/\n",
    "\n",
    "http://statsmodels.sourceforge.net/"
   ]
  },
  {
   "cell_type": "code",
   "execution_count": null,
   "metadata": {
    "collapsed": false,
    "slideshow": {
     "slide_type": "slide"
    }
   },
   "outputs": [],
   "source": [
    "import seaborn\n",
    "\n",
    "from pandas import read_csv\n",
    "\n",
    "kw = dict(na_values='NaN', sep=',', encoding='utf-8',\n",
    "          skipinitialspace=True, index_col=False)\n",
    "\n",
    "df = read_csv(\"./data/fish.csv\", **kw)\n",
    "df.head()"
   ]
  },
  {
   "cell_type": "markdown",
   "metadata": {
    "slideshow": {
     "slide_type": "slide"
    }
   },
   "source": [
    "![](./images/educated_guess.jpg)"
   ]
  },
  {
   "cell_type": "code",
   "execution_count": null,
   "metadata": {
    "collapsed": false,
    "slideshow": {
     "slide_type": "slide"
    }
   },
   "outputs": [],
   "source": [
    "kw = {'axes.edgecolor': '0', 'text.color': '0', 'ytick.color': '0', 'xtick.color': '0',\n",
    "      'ytick.major.size': 5, 'xtick.major.size': 5, 'axes.labelcolor': '0'}\n",
    "\n",
    "seaborn.set_style(\"whitegrid\", kw)\n",
    "\n",
    "corr = df.corr()\n",
    "mask = np.zeros_like(corr)\n",
    "mask[np.triu_indices_from(mask)] = True\n",
    "\n",
    "ax = seaborn.heatmap(corr, mask=mask, square=True)"
   ]
  },
  {
   "cell_type": "code",
   "execution_count": null,
   "metadata": {
    "collapsed": false,
    "slideshow": {
     "slide_type": "slide"
    }
   },
   "outputs": [],
   "source": [
    "import statsmodels.api as sm\n",
    "\n",
    "results = sm.OLS(df['BDE 47 (ng/g)'], df['Days']).fit()\n",
    "\n",
    "print(results.summary())"
   ]
  },
  {
   "cell_type": "code",
   "execution_count": null,
   "metadata": {
    "collapsed": false,
    "slideshow": {
     "slide_type": "slide"
    }
   },
   "outputs": [],
   "source": [
    "ax = seaborn.jointplot(\"Days\", \"BDE 47 (ng/g)\", df, kind=\"reg\")"
   ]
  },
  {
   "cell_type": "markdown",
   "metadata": {
    "slideshow": {
     "slide_type": "slide"
    }
   },
   "source": [
    "# dask: execute\"bigger than memory\" operations\n",
    "\n",
    "http://dask.pydata.org/en/latest/\n",
    "\n",
    "https://jakevdp.github.io/blog/2015/08/14/out-of-core-dataframes-in-python/"
   ]
  },
  {
   "cell_type": "markdown",
   "metadata": {
    "slideshow": {
     "slide_type": "slide"
    }
   },
   "source": [
    "![](./images/dask_is_smart.jpg)"
   ]
  },
  {
   "cell_type": "code",
   "execution_count": null,
   "metadata": {
    "collapsed": false,
    "scrolled": true,
    "slideshow": {
     "slide_type": "skip"
    }
   },
   "outputs": [],
   "source": [
    "import dask\n",
    "from dask.async import get_sync\n",
    "dask.set_options(get=get_sync);"
   ]
  },
  {
   "cell_type": "markdown",
   "metadata": {
    "slideshow": {
     "slide_type": "slide"
    }
   },
   "source": [
    "The following lines do not download the data"
   ]
  },
  {
   "cell_type": "code",
   "execution_count": null,
   "metadata": {
    "collapsed": false,
    "scrolled": true,
    "slideshow": {
     "slide_type": "fragment"
    }
   },
   "outputs": [],
   "source": [
    "from netCDF4 import Dataset\n",
    "\n",
    "nc = Dataset(url)\n",
    "\n",
    "t = nc['temp']\n",
    "s = nc['salt']\n",
    "\n",
    "t.shape, s.shape"
   ]
  },
  {
   "cell_type": "markdown",
   "metadata": {
    "slideshow": {
     "slide_type": "slide"
    }
   },
   "source": [
    "By making the netCDF4 variable a dask variable we can start computing stuff without loading the data!\n",
    "Note"
   ]
  },
  {
   "cell_type": "code",
   "execution_count": null,
   "metadata": {
    "collapsed": false,
    "scrolled": true,
    "slideshow": {
     "slide_type": "fragment"
    }
   },
   "outputs": [],
   "source": [
    "import dask.array as da\n",
    "\n",
    "chunks = (1, 16, 107, 345)\n",
    "\n",
    "t = da.from_array(t, chunks=chunks)\n",
    "s = da.from_array(s, chunks=chunks)\n",
    "\n",
    "t"
   ]
  },
  {
   "cell_type": "markdown",
   "metadata": {
    "slideshow": {
     "slide_type": "slide"
    }
   },
   "source": [
    "Note that the result is a dask element wise object"
   ]
  },
  {
   "cell_type": "code",
   "execution_count": null,
   "metadata": {
    "collapsed": false,
    "scrolled": true,
    "slideshow": {
     "slide_type": "fragment"
    }
   },
   "outputs": [],
   "source": [
    "(s + t) * 2"
   ]
  },
  {
   "cell_type": "markdown",
   "metadata": {
    "slideshow": {
     "slide_type": "slide"
    }
   },
   "source": [
    "You need to manually trigger the computations to load the data.\n",
    "Note that some operations, like plotting, will load the data automatically:"
   ]
  },
  {
   "cell_type": "code",
   "execution_count": null,
   "metadata": {
    "collapsed": false,
    "slideshow": {
     "slide_type": "fragment"
    }
   },
   "outputs": [],
   "source": [
    "import gsw\n",
    "import seawater as sw\n",
    "import numpy.ma as ma\n",
    "\n",
    "S = s[0, -1, :, :]\n",
    "T = t[0, -1, :, :]\n",
    "\n",
    "sigma0 = gsw.sigma0(S.compute(), T.compute())\n",
    "cs = plt.pcolormesh(ma.masked_equal(sigma0, -1000), cmap=plt.cm.viridis)"
   ]
  },
  {
   "cell_type": "markdown",
   "metadata": {
    "slideshow": {
     "slide_type": "slide"
    }
   },
   "source": [
    "# cartopy: maps!\n",
    "\n",
    "http://scitools.org.uk/cartopy/"
   ]
  },
  {
   "cell_type": "markdown",
   "metadata": {
    "slideshow": {
     "slide_type": "slide"
    }
   },
   "source": [
    "The first python library to actually solve the dateline problem"
   ]
  },
  {
   "cell_type": "code",
   "execution_count": null,
   "metadata": {
    "collapsed": false,
    "scrolled": true,
    "slideshow": {
     "slide_type": "fragment"
    }
   },
   "outputs": [],
   "source": [
    "import matplotlib.pyplot as plt\n",
    "import cartopy.crs as ccrs\n",
    "projection = ccrs.PlateCarree()\n",
    "ax = plt.axes(projection=projection)\n",
    "ax.coastlines(); ax.set_global()\n",
    "\n",
    "kw = dict(lw=4, color='g', transform=ccrs.Geodetic())\n",
    "l0 = plt.plot([-100, 50], [25, 25], label='GD1', **kw)\n",
    "l1 = plt.plot([-38, 147], [-13, -42], label='GD2', **kw)\n",
    "\n",
    "kw = dict(linewidth=4, color='b', transform=projection)\n",
    "l2 = plt.plot([-100, 50], [25, 25], label='PC1', **kw)\n",
    "l3 = plt.plot([-38, 147], [-13, -42], label='PC2', **kw)\n",
    "\n",
    "leg = ax.legend(loc=(1.05, 0.5))"
   ]
  },
  {
   "cell_type": "markdown",
   "metadata": {
    "slideshow": {
     "slide_type": "slide"
    }
   },
   "source": [
    "When creating a lot of maps it is convenient to wrap them in a plotting function"
   ]
  },
  {
   "cell_type": "code",
   "execution_count": null,
   "metadata": {
    "collapsed": true,
    "scrolled": true,
    "slideshow": {
     "slide_type": "fragment"
    }
   },
   "outputs": [],
   "source": [
    "from oceans import cm\n",
    "import matplotlib.pyplot as plt\n",
    "\n",
    "import cartopy.crs as ccrs\n",
    "from cartopy.mpl.gridliner import (LONGITUDE_FORMATTER,\n",
    "                                   LATITUDE_FORMATTER)\n",
    "\n",
    "def make_map(projection=ccrs.PlateCarree()):\n",
    "    subplot_kw = dict(projection=projection)\n",
    "    fig, ax = plt.subplots(figsize=(9, 13),\n",
    "                           subplot_kw=subplot_kw)\n",
    "    gl = ax.gridlines(draw_labels=True)\n",
    "    gl.xlabels_top = gl.ylabels_right = False\n",
    "    gl.xformatter = LONGITUDE_FORMATTER\n",
    "    gl.yformatter = LATITUDE_FORMATTER\n",
    "    return fig, ax"
   ]
  },
  {
   "cell_type": "code",
   "execution_count": null,
   "metadata": {
    "collapsed": false,
    "scrolled": true,
    "slideshow": {
     "slide_type": "slide"
    }
   },
   "outputs": [],
   "source": [
    "lon = nc['lon_rho'][:]\n",
    "lat = nc['lat_rho'][:]\n",
    "\n",
    "fig, ax = make_map()\n",
    "ax.set_extent([lon.min(), lon.max(), lat.min(), lat.max()])\n",
    "ax.coastlines('10m')\n",
    "s0 = ma.masked_equal(sigma0, -1000)\n",
    "cs = ax.pcolormesh(lon, lat, s0, cmap=cm.avhrr)\n",
    "cbar = fig.colorbar(cs, shrink=0.45, extend='both')"
   ]
  },
  {
   "cell_type": "markdown",
   "metadata": {
    "slideshow": {
     "slide_type": "slide"
    }
   },
   "source": [
    "# iris\n",
    "\n",
    "http://scitools.org.uk/iris/docs/latest/index.html"
   ]
  },
  {
   "cell_type": "markdown",
   "metadata": {
    "slideshow": {
     "slide_type": "slide"
    }
   },
   "source": [
    "Iris is an interpretation of the [CF-Conventions](http://cfconventions.org/).\n",
    "The main object is the `cube`:"
   ]
  },
  {
   "cell_type": "code",
   "execution_count": null,
   "metadata": {
    "collapsed": false,
    "scrolled": true,
    "slideshow": {
     "slide_type": "fragment"
    }
   },
   "outputs": [],
   "source": [
    "import iris\n",
    "\n",
    "cubes = iris.load_raw(url)\n",
    "print(cubes)"
   ]
  },
  {
   "cell_type": "markdown",
   "metadata": {
    "slideshow": {
     "slide_type": "slide"
    }
   },
   "source": [
    "We can take advantage of the CF conventions to access variables by its `standard_name`"
   ]
  },
  {
   "cell_type": "code",
   "execution_count": null,
   "metadata": {
    "collapsed": false,
    "scrolled": true,
    "slideshow": {
     "slide_type": "fragment"
    }
   },
   "outputs": [],
   "source": [
    "temp = cubes.extract_strict('sea_water_potential_temperature')\n",
    "print(temp)"
   ]
  },
  {
   "cell_type": "markdown",
   "metadata": {
    "slideshow": {
     "slide_type": "slide"
    }
   },
   "source": [
    "Like `xray` we have both high and low level slicing\n",
    "(Although the high level slicing in `iris` is too sophisticated for my taste ;-)"
   ]
  },
  {
   "cell_type": "code",
   "execution_count": null,
   "metadata": {
    "collapsed": false,
    "scrolled": true,
    "slideshow": {
     "slide_type": "fragment"
    }
   },
   "outputs": [],
   "source": [
    "t = temp[-1, -1, ...]\n",
    "\n",
    "print(t)  # The metadata is always propagated."
   ]
  },
  {
   "cell_type": "markdown",
   "metadata": {
    "slideshow": {
     "slide_type": "slide"
    }
   },
   "source": [
    "There are even some quick plotting routines to explore the data.\n",
    "Note the free colorbar, units label, and title:"
   ]
  },
  {
   "cell_type": "code",
   "execution_count": null,
   "metadata": {
    "collapsed": false,
    "scrolled": true,
    "slideshow": {
     "slide_type": "fragment"
    }
   },
   "outputs": [],
   "source": [
    "import iris.quickplot as qplt\n",
    "\n",
    "cs = qplt.pcolormesh(t, cmap=plt.cm.viridis)"
   ]
  },
  {
   "cell_type": "markdown",
   "metadata": {
    "slideshow": {
     "slide_type": "slide"
    }
   },
   "source": [
    "# Optimizing code for iso-surfaces using Fortran, Cython, and Numba"
   ]
  },
  {
   "cell_type": "code",
   "execution_count": null,
   "metadata": {
    "collapsed": false,
    "slideshow": {
     "slide_type": "slide"
    }
   },
   "outputs": [],
   "source": [
    "p = np.linspace(-100, 0, 30)[:, None, None] * np.ones((50, 70))\n",
    "x, y = np.mgrid[0:20:50j, 0:20:70j]\n",
    "\n",
    "q = np.sin(x) + p\n",
    "p0 = -50."
   ]
  },
  {
   "cell_type": "code",
   "execution_count": null,
   "metadata": {
    "collapsed": false,
    "slideshow": {
     "slide_type": "slide"
    }
   },
   "outputs": [],
   "source": [
    "def naive_zslice(q, p, p0, mask_val=np.NaN):\n",
    "    N, M, L = q.shape[0], q.shape[1], q.shape[2]\n",
    "    \n",
    "    q_iso = np.empty((M, L))\n",
    "    for i in range(L):\n",
    "        for j in range(M):\n",
    "            q_iso[j, i] = mask_val\n",
    "            for k in range(N-1):\n",
    "                if (((p[k, j, i] < p0) and (p[k+1, j, i] > p0)) or\n",
    "                    ((p[k, j, i] > p0) and (p[k+1, j, i] < p0))):\n",
    "                    dp = p[k+1, j, i] - p[k, j, i]\n",
    "                    dp0 = p0 - p[k, j, i]\n",
    "                    dq = q[k+1, j, i] - q[k, j, i]\n",
    "                    q_iso[j, i] = q[k, j, i] + dq*dp0/dp\n",
    "    return q_iso\n",
    "\n",
    "naive = %timeit -n1000 -o naive_zslice(q, p, p0)"
   ]
  },
  {
   "cell_type": "code",
   "execution_count": null,
   "metadata": {
    "collapsed": true,
    "slideshow": {
     "slide_type": "slide"
    }
   },
   "outputs": [],
   "source": [
    "def numpy_zslice(q, p, p0):\n",
    "    N, L, M = q.shape\n",
    "    p0 = -abs(p0)\n",
    "    data = q.reshape(N, -1, order='F')\n",
    "    z = p.reshape(N, -1, order='F')\n",
    "\n",
    "    bottom = np.zeros((1, L*M))\n",
    "    top = np.empty_like(bottom)\n",
    "    top.fill(-np.inf)\n",
    "    z = np.r_[top, z, bottom]\n",
    "\n",
    "    top.fill(np.NaN)\n",
    "    data = np.r_[top, data, data[-1, ...][None, :]]\n",
    "    z, data = map(np.flipud, (z, data))\n",
    "    zg_ind = np.diff(z < p0, axis=0).ravel('F').nonzero()[0]\n",
    "    zg_ind += np.arange(0, len(zg_ind), 1)\n",
    "    depth_greater_z = z.ravel('F')[zg_ind]\n",
    "    data_greater_z = data.ravel('F')[zg_ind]\n",
    "\n",
    "    zl_ind = np.diff(z > p0, axis=0).ravel('F').nonzero()[0]\n",
    "    zl_ind += np.arange(1, len(zg_ind)+1, 1)\n",
    "    depth_lesser_z = z.ravel('F')[zl_ind]\n",
    "    data_lesser_z = data.ravel('F')[zl_ind]\n",
    "\n",
    "    alpha = (p0-depth_greater_z) / (depth_lesser_z-depth_greater_z)\n",
    "    data_at_depth = (data_lesser_z*alpha) + (data_greater_z*(1-alpha))\n",
    "    return data_at_depth.reshape(L, M, order='F')"
   ]
  },
  {
   "cell_type": "code",
   "execution_count": null,
   "metadata": {
    "collapsed": false,
    "slideshow": {
     "slide_type": "slide"
    }
   },
   "outputs": [],
   "source": [
    "numpy = %timeit -n1000 -o numpy_zslice(q, p, p0)"
   ]
  },
  {
   "cell_type": "markdown",
   "metadata": {
    "slideshow": {
     "slide_type": "slide"
    }
   },
   "source": [
    "## Let's bring the loop back!\n",
    "\n",
    "![](./images/idiosyncratic.jpg)"
   ]
  },
  {
   "cell_type": "code",
   "execution_count": null,
   "metadata": {
    "collapsed": false,
    "slideshow": {
     "slide_type": "slide"
    }
   },
   "outputs": [],
   "source": [
    "%load_ext fortranmagic"
   ]
  },
  {
   "cell_type": "code",
   "execution_count": null,
   "metadata": {
    "collapsed": true,
    "slideshow": {
     "slide_type": "slide"
    }
   },
   "outputs": [],
   "source": [
    "%%fortran\n",
    "      subroutine fortran_zslice(q, p, p0, q_iso, L, M, N)\n",
    "      implicit none\n",
    "      integer L, M, N\n",
    "      real*8 q(N,M,L)\n",
    "      real*8 p(N,M,L)\n",
    "      real*8 q_iso(M,L)\n",
    "cf2py intent(out) q_iso\n",
    "      integer i, j, k\n",
    "      real*8 dq, dp, dp0, p0\n",
    "\n",
    "      do i=1,L\n",
    "        do j=1,M\n",
    "          q_iso(j,i)=1.0d20 ! default value - isoline not in profile\n",
    "          do k=1,N-1\n",
    "            if ( (p(k,j,i).lt.p0.and.p(k+1,j,i).gt.p0).or.\n",
    "     &           (p(k,j,i).gt.p0.and.p(k+1,j,i).lt.p0) ) then\n",
    "              dp = p(k+1,j,i) - p(k,j,i)\n",
    "              dp0 = p0 - p(k,j,i)\n",
    "              dq = q(k+1,j,i) - q(k,j,i)\n",
    "              q_iso(j,i) = q(k,j,i) + dq*dp0/dp\n",
    "            endif\n",
    "          enddo\n",
    "        enddo\n",
    "      enddo\n",
    "\n",
    "      return\n",
    "      end subroutine fortran_zslice"
   ]
  },
  {
   "cell_type": "code",
   "execution_count": null,
   "metadata": {
    "collapsed": false,
    "slideshow": {
     "slide_type": "slide"
    }
   },
   "outputs": [],
   "source": [
    "fotran = %timeit -n1000 -o fortran_zslice(q, p, p0)"
   ]
  },
  {
   "cell_type": "code",
   "execution_count": null,
   "metadata": {
    "collapsed": true,
    "slideshow": {
     "slide_type": "slide"
    }
   },
   "outputs": [],
   "source": [
    "%load_ext Cython"
   ]
  },
  {
   "cell_type": "code",
   "execution_count": null,
   "metadata": {
    "collapsed": false,
    "slideshow": {
     "slide_type": "slide"
    }
   },
   "outputs": [],
   "source": [
    "%%cython\n",
    "cimport cython\n",
    "import numpy as np\n",
    "cimport numpy as np\n",
    "\n",
    "@cython.boundscheck(False)\n",
    "@cython.wraparound(False)\n",
    "def cython_zslice(double[:, :, ::1] q,\n",
    "                    double[:, :, ::1] p,\n",
    "                    double p0,\n",
    "                    mask_val=np.NaN):\n",
    "    cdef int L = q.shape[2]\n",
    "    cdef int M = q.shape[1]\n",
    "    cdef int N = q.shape[0]\n",
    "    cdef double dp, dq, dq0\n",
    "    cdef int i, j, k\n",
    "    \n",
    "    cdef double[:, ::1] q_iso = np.empty((M, L), dtype=np.float64)\n",
    "    \n",
    "    for i in range(L):\n",
    "        for j in range(M):\n",
    "            q_iso[j, i] = mask_val\n",
    "            for k in range(N-1):\n",
    "                if (((p[k, j, i] < p0) and (p[k+1, j, i] > p0)) or\n",
    "                    ((p[k, j, i] > p0) and (p[k+1, j, i] < p0))):\n",
    "                    dp = p[k+1, j, i] - p[k, j, i]\n",
    "                    dp0 = p0 - p[k, j, i]\n",
    "                    dq = q[k+1, j, i] - q[k, j, i]\n",
    "                    q_iso[j, i] = q[k, j, i] + dq*dp0/dp\n",
    "    return np.array(q_iso)"
   ]
  },
  {
   "cell_type": "code",
   "execution_count": null,
   "metadata": {
    "collapsed": false,
    "slideshow": {
     "slide_type": "slide"
    }
   },
   "outputs": [],
   "source": [
    "cython = %timeit -n1000 -o cython_zslice(q, p, p0)"
   ]
  },
  {
   "cell_type": "code",
   "execution_count": null,
   "metadata": {
    "collapsed": false,
    "slideshow": {
     "slide_type": "slide"
    }
   },
   "outputs": [],
   "source": [
    "from numba.decorators import jit\n",
    "\n",
    "@jit\n",
    "def numba_zslice(q, p, p0, mask_val=np.NaN):\n",
    "    N, M, L = q.shape[0], q.shape[1], q.shape[2]\n",
    "    \n",
    "    q_iso = np.empty((M, L))\n",
    "    for i in range(L):\n",
    "        for j in range(M):\n",
    "            q_iso[j, i] = mask_val\n",
    "            for k in range(N-1):\n",
    "                if (((p[k, j, i] < p0) and (p[k+1, j, i] > p0)) or\n",
    "                    ((p[k, j, i] > p0) and (p[k+1, j, i] < p0))):\n",
    "                    dp = p[k+1, j, i] - p[k, j, i]\n",
    "                    dp0 = p0 - p[k, j, i]\n",
    "                    dq = q[k+1, j, i] - q[k, j, i]\n",
    "                    q_iso[j, i] = q[k, j, i] + dq*dp0/dp\n",
    "    return q_iso"
   ]
  },
  {
   "cell_type": "code",
   "execution_count": null,
   "metadata": {
    "collapsed": false,
    "slideshow": {
     "slide_type": "slide"
    }
   },
   "outputs": [],
   "source": [
    "numba = %timeit -n1000 -o numba_zslice(q, p, p0)"
   ]
  },
  {
   "cell_type": "code",
   "execution_count": null,
   "metadata": {
    "collapsed": false,
    "scrolled": true,
    "slideshow": {
     "slide_type": "slide"
    }
   },
   "outputs": [],
   "source": [
    "from pandas import DataFrame\n",
    "\n",
    "benchmarkings = dict(naive=naive.best,\n",
    "                     numpy=numpy.best,\n",
    "                     fortran=fotran.best,\n",
    "                     cython=cython.best,\n",
    "                     numba=numba.best)\n",
    "\n",
    "benchmarkings = DataFrame.from_dict(benchmarkings, orient='index')\n",
    "benchmarkings.sort_values(by=0, ascending=False, inplace=True)\n",
    "ax = benchmarkings.plot(kind='bar', logy=True, legend=False)\n",
    "yt = ax.set_ylabel('Times (ms)')"
   ]
  },
  {
   "cell_type": "markdown",
   "metadata": {
    "slideshow": {
     "slide_type": "slide"
    }
   },
   "source": [
    "## How to decide which one use?\n",
    "\n",
    "![](./images/good_code.png)"
   ]
  },
  {
   "cell_type": "markdown",
   "metadata": {
    "slideshow": {
     "slide_type": "slide"
    }
   },
   "source": [
    "# Some very \"oceanographic\" libraries\n",
    "\n",
    "\n",
    "- [odvc](https://raw.githubusercontent.com/ioos/odvc/master/notebooks/ocean_sigma_coordinate-FVCOM.ipynb)\n",
    "- [pyoos](http://ioos.github.io/system-test/)\n",
    "- [pyugrid](https://ocefpaf.github.io/python4oceanographers/blog/2015/07/20/pyugrid/)\n",
    "- [pysgrid](http://nbviewer.ipython.org/urls/raw.githubusercontent.com/sgrid/pysgrid/master/pysgrid/notebook_examples/hudson_shelf_valley.ipynb)\n",
    "- [ciso](http://nbviewer.ipython.org/gist/ocefpaf/ee14af5220bc3512131f)\n",
    "- [utide](https://ocefpaf.github.io/python4oceanographers/blog/2015/05/18/utide_ellipse/)"
   ]
  },
  {
   "cell_type": "markdown",
   "metadata": {
    "slideshow": {
     "slide_type": "slide"
    }
   },
   "source": [
    "# Using python as a glue language"
   ]
  },
  {
   "cell_type": "markdown",
   "metadata": {
    "slideshow": {
     "slide_type": "slide"
    }
   },
   "source": [
    "## MatLab\n",
    "\n",
    "![](./images/626.gif)"
   ]
  },
  {
   "cell_type": "code",
   "execution_count": null,
   "metadata": {
    "collapsed": false,
    "slideshow": {
     "slide_type": "fragment"
    }
   },
   "outputs": [],
   "source": [
    "try:\n",
    "    %load_ext oct2py.ipython\n",
    "    octave = True\n",
    "except OSError as e:\n",
    "    octave = False\n",
    "    print(e)\n",
    "    print(\"You cannot run the next 2 cells with the octave example :-(\")"
   ]
  },
  {
   "cell_type": "code",
   "execution_count": null,
   "metadata": {
    "collapsed": false,
    "slideshow": {
     "slide_type": "fragment"
    }
   },
   "outputs": [],
   "source": [
    "%%file fahr_to_kelvin.m\n",
    "\n",
    "function ktemp = fahr_to_kelvin(ftemp)\n",
    "    ktemp = ((ftemp - 32) * (5/9)) + 273.15;\n",
    "end"
   ]
  },
  {
   "cell_type": "code",
   "execution_count": null,
   "metadata": {
    "collapsed": false,
    "slideshow": {
     "slide_type": "slide"
    }
   },
   "outputs": [],
   "source": [
    "if octave:\n",
    "    %octave fahr_to_kelvin(32)"
   ]
  },
  {
   "cell_type": "markdown",
   "metadata": {
    "slideshow": {
     "slide_type": "slide"
    }
   },
   "source": [
    "## Fortran\n",
    "\n",
    "![](./images/Olde_Fortran_Malt_Liquor.jpg)"
   ]
  },
  {
   "cell_type": "code",
   "execution_count": null,
   "metadata": {
    "collapsed": false,
    "slideshow": {
     "slide_type": "fragment"
    }
   },
   "outputs": [],
   "source": [
    "%load_ext fortranmagic"
   ]
  },
  {
   "cell_type": "code",
   "execution_count": null,
   "metadata": {
    "collapsed": true,
    "slideshow": {
     "slide_type": "slide"
    }
   },
   "outputs": [],
   "source": [
    "%%fortran\n",
    "\n",
    "subroutine calc_sin(x, y)\n",
    "    real, intent(in) :: x\n",
    "    real, intent(out) :: y\n",
    "\n",
    "    y = sin(x)\n",
    "\n",
    "end subroutine calc_sin"
   ]
  },
  {
   "cell_type": "code",
   "execution_count": null,
   "metadata": {
    "collapsed": false,
    "slideshow": {
     "slide_type": "fragment"
    }
   },
   "outputs": [],
   "source": [
    "calc_sin(np.pi/2)"
   ]
  },
  {
   "cell_type": "markdown",
   "metadata": {
    "slideshow": {
     "slide_type": "slide"
    }
   },
   "source": [
    "## R\n",
    "\n",
    "![](./images/r_curve.jpg)"
   ]
  },
  {
   "cell_type": "code",
   "execution_count": null,
   "metadata": {
    "collapsed": false,
    "slideshow": {
     "slide_type": "fragment"
    }
   },
   "outputs": [],
   "source": [
    "%load_ext rpy2.ipython"
   ]
  },
  {
   "cell_type": "code",
   "execution_count": null,
   "metadata": {
    "collapsed": false,
    "slideshow": {
     "slide_type": "slide"
    }
   },
   "outputs": [],
   "source": [
    "%%R\n",
    "X=c(1,4,5,7)\n",
    "Y = c(2,4,3,9)\n",
    "print(summary(lm(Y~X)))"
   ]
  },
  {
   "cell_type": "code",
   "execution_count": null,
   "metadata": {
    "collapsed": false,
    "slideshow": {
     "slide_type": "slide"
    }
   },
   "outputs": [],
   "source": [
    "%%R\n",
    "library(oce)\n",
    "Sa <- 30; Ta <- 10; Sb <- 40; \n",
    "rho0 <- swRho(Sa, Ta, 0)\n",
    "Tb <- uniroot(function(T) rho0-swRho(Sb,T,0), lower=0, upper=100)$root\n",
    "Sc <- (Sa + Sb) /2; Tc <- (Ta + Tb) /2\n",
    "drho <- swRho(Sc, Tc, 0) - rho0\n",
    "dT <- drho / rho0 / swAlpha(Sc, Tc, 0)\n",
    "plotTS(as.ctd(c(Sa, Sb, Sc), c(Ta, Tb, Tc), 0), pch=20, cex=2)\n",
    "drawIsopycnals(levels=rho0, col=\"red\", cex=0)\n",
    "segments(Sa, Ta, Sb, Tb, col=\"blue\")\n",
    "text(Sb, Tb, \"b\", pos=4); text(Sa, Ta, \"a\", pos=4); text(Sc, Tc, \"c\", pos=4)\n",
    "legend(\"topleft\",legend=sprintf(\"Sa=%.1f, Ta=%.1f, Sb=%.1f  ->  Tb=%.1f, drho=%.2f, dT=%.2f\",Sa, Ta, Sb, Tb, drho, dT),bg=\"white\")"
   ]
  },
  {
   "cell_type": "markdown",
   "metadata": {
    "slideshow": {
     "slide_type": "slide"
    }
   },
   "source": [
    "## Caveat: Just because I said this is good stuff it means you should use it\n",
    "\n",
    "![](./images/questionable_taste.jpg)"
   ]
  },
  {
   "cell_type": "markdown",
   "metadata": {
    "slideshow": {
     "slide_type": "slide"
    }
   },
   "source": [
    "##  Now we are ready to fix the World!"
   ]
  },
  {
   "cell_type": "code",
   "execution_count": null,
   "metadata": {
    "collapsed": false,
    "slideshow": {
     "slide_type": "fragment"
    }
   },
   "outputs": [],
   "source": [
    "from skimage import io\n",
    "from skimage.transform import rotate\n",
    "\n",
    "img = io.imread('./images/dsc_0223.jpg')\n",
    "\n",
    "rotated = rotate(img, -5, order=3)\n",
    "\n",
    "fig, (ax0, ax1) = plt.subplots(ncols=2, figsize=(9, 9))\n",
    "ax0.imshow(img)\n",
    "ax1.imshow(rotated);"
   ]
  }
 ],
 "metadata": {
  "celltoolbar": "Slideshow",
  "kernelspec": {
   "display_name": "Python 2",
   "language": "python",
   "name": "python2"
  },
  "language_info": {
   "codemirror_mode": {
    "name": "ipython",
    "version": 2
   },
   "file_extension": ".py",
   "mimetype": "text/x-python",
   "name": "python",
   "nbconvert_exporter": "python",
   "pygments_lexer": "ipython2",
   "version": "2.7.11"
  },
  "widgets": {
   "state": {},
   "version": "1.1.1"
  }
 },
 "nbformat": 4,
 "nbformat_minor": 0
}
